{
  "nbformat": 4,
  "nbformat_minor": 0,
  "metadata": {
    "colab": {
      "provenance": [],
      "authorship_tag": "ABX9TyPxXDXZQbYdsSFgEWUxp8lr",
      "include_colab_link": true
    },
    "kernelspec": {
      "name": "python3",
      "display_name": "Python 3"
    },
    "language_info": {
      "name": "python"
    }
  },
  "cells": [
    {
      "cell_type": "markdown",
      "metadata": {
        "id": "view-in-github",
        "colab_type": "text"
      },
      "source": [
        "<a href=\"https://colab.research.google.com/github/nhula01/polymath/blob/main/Module_D.ipynb\" target=\"_parent\"><img src=\"https://colab.research.google.com/assets/colab-badge.svg\" alt=\"Open In Colab\"/></a>"
      ]
    },
    {
      "cell_type": "markdown",
      "source": [
        "Linear Algebra\n",
        "\n",
        "1.1 Introduction\n",
        "Linear Algebra is everywhere!!\n",
        "\n",
        "We can see its presence in calculus, physics, and in the current computer that we are using right now.\n",
        "\n",
        "Befor going into vectors, we should also explore sets for example natural numbers, whole numbers, integers, rational numbers, irrational numbers, real numbers, and complex numbers. Mostly, we only need to work with real numbers. However, in complex physical systems, complex numbers are highly utilized to explore concepts such as quantum mechanics."
      ],
      "metadata": {
        "id": "zqxww-viUe8Q"
      }
    },
    {
      "cell_type": "code",
      "execution_count": 8,
      "metadata": {
        "colab": {
          "base_uri": "https://localhost:8080/"
        },
        "id": "XyNIncOtUM1G",
        "outputId": "bde0329d-6654-427b-adc7-06241a06900d"
      },
      "outputs": [
        {
          "output_type": "stream",
          "name": "stdout",
          "text": [
            "[[101]]\n"
          ]
        }
      ],
      "source": [
        "#for example, we can find dot product of two vectors\n",
        "from numpy import arccos, dot\n",
        "import numpy as np\n",
        "v = np.array([[10, 9, 3]])\n",
        "w = np.array([[2, 5, 12]])\n",
        "dotproduct = dot(v, w.T)\n",
        "print(dotproduct)"
      ]
    },
    {
      "cell_type": "markdown",
      "source": [
        "For example, the one half spin system could be represented in vectors"
      ],
      "metadata": {
        "id": "Q0_NmAXjDCWf"
      }
    },
    {
      "cell_type": "code",
      "source": [
        "up = np.array([1,0])\n",
        "down = np.array([0,1])"
      ],
      "metadata": {
        "id": "7aVHVkJcDIqf"
      },
      "execution_count": 9,
      "outputs": []
    },
    {
      "cell_type": "markdown",
      "source": [
        "Or even calculating torque, the cross product is usually used.\n",
        "\n",
        "$\\mathbf{\\tau}=\\mathbf{r}\\times\\mathbf{F}$"
      ],
      "metadata": {
        "id": "Y0PYhKwUDQfv"
      }
    },
    {
      "cell_type": "code",
      "source": [
        "r = np.array([[1, 9, 3]])\n",
        "force = np.array([1,2,3])\n",
        "torque = np.cross(r, force)\n",
        "print(torque)"
      ],
      "metadata": {
        "colab": {
          "base_uri": "https://localhost:8080/"
        },
        "id": "vQUr5qEDDQzj",
        "outputId": "37776711-e5ea-4da8-9d8e-503ff7554624"
      },
      "execution_count": 10,
      "outputs": [
        {
          "output_type": "stream",
          "name": "stdout",
          "text": [
            "[[21  0 -7]]\n"
          ]
        }
      ]
    },
    {
      "cell_type": "markdown",
      "source": [
        "1.2 Elements of Linear Algebra\n",
        "\n",
        "Let we introduce a vector space $V=\\mathbb{R}^n$"
      ],
      "metadata": {
        "id": "vkmUno1pVa8N"
      }
    },
    {
      "cell_type": "markdown",
      "source": [
        "\n",
        "For vector $\\mathbf{u_1}, \\mathbf{u_2}$ and $\\alpha, \\beta \\in \\mathbb{R}$, we have $\\alpha * \\mathbf{*u_1*}+\\beta * \\mathbf{u_2}$ defined as a linear combination"
      ],
      "metadata": {
        "id": "NjursRRBWA2d"
      }
    },
    {
      "cell_type": "code",
      "source": [
        "2*v+3*w # we are deal with R^3 in this case"
      ],
      "metadata": {
        "colab": {
          "base_uri": "https://localhost:8080/"
        },
        "id": "mRx7AZuTVPdz",
        "outputId": "51494f08-9c2e-433b-ddd5-b8905262571a"
      },
      "execution_count": 11,
      "outputs": [
        {
          "output_type": "execute_result",
          "data": {
            "text/plain": [
              "array([[26, 33, 42]])"
            ]
          },
          "metadata": {},
          "execution_count": 11
        }
      ]
    },
    {
      "cell_type": "markdown",
      "source": [
        "Zero vector is always in the set"
      ],
      "metadata": {
        "id": "7bGkqRHgXoHb"
      }
    },
    {
      "cell_type": "code",
      "source": [
        "np.zeros(3)"
      ],
      "metadata": {
        "colab": {
          "base_uri": "https://localhost:8080/"
        },
        "id": "0DJ0z6_IXGi_",
        "outputId": "13f5fe35-8a90-4454-e007-f7447021784c"
      },
      "execution_count": 12,
      "outputs": [
        {
          "output_type": "execute_result",
          "data": {
            "text/plain": [
              "array([0., 0., 0.])"
            ]
          },
          "metadata": {},
          "execution_count": 12
        }
      ]
    },
    {
      "cell_type": "markdown",
      "source": [
        "if given a set of vectors $\\mathbf{w_1}, \\mathbf{w_2},...,\\mathbf{w_m} \\in V$, the span is defined as the linear combination of all these bases\n",
        "\n",
        "span($\\mathbf{w_1}, \\mathbf{w_2},...,\\mathbf{w_m}$) = $\\{\\sum_{j=1}^{m}α_j\\mathbf{w_j}:\\alpha_1,...,\\alpha_m \\in \\mathbb{R}\\}$"
      ],
      "metadata": {
        "id": "S-dl2QQNYB6O"
      }
    },
    {
      "cell_type": "code",
      "source": [
        "x = np.array([[1, 0, 0]])\n",
        "y = np.array([[0, 1, 0]])\n",
        "z = np.array([[0, 0, 1]])\n",
        "# the linear combinations of the three vectors span the whole 3d space"
      ],
      "metadata": {
        "id": "oWuaXHA3X9FO"
      },
      "execution_count": 13,
      "outputs": []
    },
    {
      "cell_type": "markdown",
      "source": [
        "\n",
        "Given a set of vectors $\\mathbf{w_1}, \\mathbf{w_2},...,\\mathbf{w_m} \\in V$, they are linearly independent when\n",
        "\n",
        " $\\sum_{j=1}^{m}α_j\\mathbf{w_j}=\\mathbf{0}$ only when $\\alpha_j=0$ fo all j\n",
        "\n"
      ],
      "metadata": {
        "id": "MW07AtAka06i"
      }
    },
    {
      "cell_type": "code",
      "source": [
        "#since x,y and z are linearly dependent, the only way to be a zero vector is\n",
        "0*x+0*y+0*z"
      ],
      "metadata": {
        "colab": {
          "base_uri": "https://localhost:8080/"
        },
        "id": "pkaD4tTsbvPj",
        "outputId": "04314ec4-3557-4951-a05a-b3a1c797dee0"
      },
      "execution_count": 14,
      "outputs": [
        {
          "output_type": "execute_result",
          "data": {
            "text/plain": [
              "array([[0, 0, 0]])"
            ]
          },
          "metadata": {},
          "execution_count": 14
        }
      ]
    },
    {
      "cell_type": "markdown",
      "source": [
        "To have a linear space of dimension n, we need at least n independent vectors of dimension n to span the whole space. These vectors form a basis for the space. We can also reduce this basis to become an orthonormal basis."
      ],
      "metadata": {
        "id": "23CRjlHNcsVX"
      }
    },
    {
      "cell_type": "markdown",
      "source": [
        "1.2.2 Orthogonality\n",
        "\n",
        "We first define an inner product to be $<\\mathbf{u},\\mathbf{v}>=\\mathbf{u}\\cdot \\mathbf{v}$\n",
        "\n",
        "For an orthonormal basis, the vetors are orthogonal and have the norms of 1"
      ],
      "metadata": {
        "id": "q6zHWmBedL3g"
      }
    },
    {
      "cell_type": "code",
      "source": [
        "# the basis {x,y,z} above is actually an orthonormal basis\n",
        "print(\"The dot product of x and y is: \",dot(x, y.T))\n",
        "print(\"The norm of x is \",np.linalg.norm(x))\n",
        "print(\"The dot product of x and z is: \",dot(x, z.T))\n",
        "print(\"The norm of y is \",np.linalg.norm(y))\n",
        "print(\"The dot product of y and z is: \",dot(y, z.T))\n",
        "print(\"The norm of z is \",np.linalg.norm(z))"
      ],
      "metadata": {
        "colab": {
          "base_uri": "https://localhost:8080/"
        },
        "id": "znDdQG4Cb8aN",
        "outputId": "62d14c02-a466-4992-df17-e02d7c276a74"
      },
      "execution_count": 15,
      "outputs": [
        {
          "output_type": "stream",
          "name": "stdout",
          "text": [
            "The dot product of x and y is:  [[0]]\n",
            "The norm of x is  1.0\n",
            "The dot product of x and z is:  [[0]]\n",
            "The norm of y is  1.0\n",
            "The dot product of y and z is:  [[0]]\n",
            "The norm of z is  1.0\n"
          ]
        }
      ]
    },
    {
      "cell_type": "markdown",
      "source": [
        "Some useful properties in linear algebra\n",
        "\n",
        "The pythagoran theorem in vectors is $\\|\\mathbf{u}+\\mathbf{v}\\|^2=\\|\\mathbf{u}\\|^2+\\|\\mathbf{v}\\|^2$ for orthogonal vectors"
      ],
      "metadata": {
        "id": "ky5Vx2J4fbJg"
      }
    },
    {
      "cell_type": "code",
      "source": [
        "norm1 = np.linalg.norm(x+y)**2\n",
        "norm2 = np.linalg.norm(x)**2+np.linalg.norm(y)**2\n",
        "print(norm1,norm2)"
      ],
      "metadata": {
        "colab": {
          "base_uri": "https://localhost:8080/"
        },
        "id": "9XGBXmoueLPc",
        "outputId": "7044c730-d692-4e6a-d61c-48615fc1d207"
      },
      "execution_count": 16,
      "outputs": [
        {
          "output_type": "stream",
          "name": "stdout",
          "text": [
            "2.0000000000000004 2.0\n"
          ]
        }
      ]
    },
    {
      "cell_type": "markdown",
      "source": [
        "Cauchy-Schwarz theorem: for any two vectors $\\mathbf{u}, \\mathbf{v} \\in V$, then $|<\\mathbf{u},\\mathbf{v}>|\\leq\\|\\mathbf{u}\\| \\|\\mathbf{v}\\|$"
      ],
      "metadata": {
        "id": "CqNp3Eeqgiop"
      }
    },
    {
      "cell_type": "code",
      "source": [
        "m = np.array([1,2,3])\n",
        "n = np.array([2,1,3])\n",
        "m_dot_n = dot(m, n.T)\n",
        "print(np.linalg.norm(m_dot_n))\n",
        "print(np.linalg.norm(m)*np.linalg.norm(n))\n",
        "print(\"We see that theorem gives us the right answer in this case\")"
      ],
      "metadata": {
        "colab": {
          "base_uri": "https://localhost:8080/"
        },
        "id": "HOS0XjMxgOxb",
        "outputId": "bc387e19-f788-4801-eb4c-f2da9da10af8"
      },
      "execution_count": 17,
      "outputs": [
        {
          "output_type": "stream",
          "name": "stdout",
          "text": [
            "13.0\n",
            "14.0\n",
            "We see that theorem gives us the right answer in this case\n"
          ]
        }
      ]
    },
    {
      "cell_type": "markdown",
      "source": [
        "The theorem to construct an orthonormal basis from a given basis is called Gram-Schmidt. This theorem could be easily visuzalized on a 2d graph."
      ],
      "metadata": {
        "id": "OzPBYreqB_jb"
      }
    },
    {
      "cell_type": "code",
      "source": [
        "# for example we have\n",
        "x_1 = np.array([0,1])\n",
        "x_2 = np.array([.8,.4])\n",
        "\n",
        "# we choose the first array to be one of the two, in this case i choose x_1\n",
        "x_new_1 = np.array([0,1])\n",
        "#we then normalize it\n",
        "x_new_1 = x_new_1/np.linalg.norm(x_new_1)\n",
        "print(x_new_1)\n",
        "\n",
        "#find the orthogonal vector\n",
        "x_new_2 = x_2-dot(x_new_1, x_2)*x_new_1\n",
        "#now normalize it\n",
        "x_new_2 = x_new_2/np.linalg.norm(x_new_2)\n",
        "\n",
        "#plot it\n",
        "import matplotlib.pyplot as plt\n",
        "fig = plt.figure(figsize=(5, 5))\n",
        "ax = fig.add_subplot(111)\n",
        "ax.grid(alpha=0.4)\n",
        "ax.set(xlim=(-3, 3), ylim=(-3, 3))\n",
        "# Plot the orthogonal vectors\n",
        "ax.annotate('', xy=x_1, xytext=(0, 0), arrowprops=dict(facecolor='r'), label='x_new_1')\n",
        "ax.annotate('', xy=x_2, xytext=(0, 0), arrowprops=dict(facecolor='g'),label='x_2')\n",
        "ax.annotate('', xy=x_new_2, xytext=(0, 0), arrowprops=dict(facecolor='g'),label='x_new_2')\n",
        "plt.show()"
      ],
      "metadata": {
        "id": "tOHEs3QvhrOQ",
        "colab": {
          "base_uri": "https://localhost:8080/",
          "height": 468
        },
        "outputId": "4f8a3798-a1e0-427b-9012-5ac1ce16153f"
      },
      "execution_count": 33,
      "outputs": [
        {
          "output_type": "stream",
          "name": "stdout",
          "text": [
            "[0. 1.]\n"
          ]
        },
        {
          "output_type": "display_data",
          "data": {
            "text/plain": [
              "<Figure size 500x500 with 1 Axes>"
            ],
            "image/png": "[encoded data removed]"
          },
          "metadata": {}
        }
      ]
    },
    {
      "cell_type": "markdown",
      "source": [
        "When the following holds\n",
        "\n",
        "$A\\mathbf{x}=\\lambda \\mathbf{x}$\n",
        "\n",
        "$\\lambda$ is the eigenvalues and $\\mathbf{x}$ at those eigenvalues are the eigenvectors\n",
        "\n",
        "\n"
      ],
      "metadata": {
        "id": "3Gf2UYpyHSsu"
      }
    },
    {
      "cell_type": "code",
      "source": [
        "from numpy.linalg import eig\n",
        "a = np.array([[1, 0, 0],\n",
        "              [0, 2, 0],\n",
        "              [0, 0, 3]])\n",
        "w,v=eig(a)\n",
        "print('E-value:', w)\n",
        "print('E-vector', v)\n",
        "\n",
        "#sometimes we might also degenerate states\n",
        "a = np.array([[4, -1, -1],\n",
        "              [-1, 4, -1],\n",
        "              [-1, -1, 4]])"
      ],
      "metadata": {
        "colab": {
          "base_uri": "https://localhost:8080/"
        },
        "id": "kp4YQ3ncFliG",
        "outputId": "be0462b2-1fbc-4316-a039-355f966349d6"
      },
      "execution_count": 39,
      "outputs": [
        {
          "output_type": "stream",
          "name": "stdout",
          "text": [
            "E-value: [1. 2. 3.]\n",
            "E-vector [[1. 0. 0.]\n",
            " [0. 1. 0.]\n",
            " [0. 0. 1.]]\n"
          ]
        }
      ]
    },
    {
      "cell_type": "markdown",
      "source": [
        "If a matrix can be written in a diagonal form, then there exists a nonsingular matrix P such that\n",
        "$A=PDP^{-1}$\n",
        "\n",
        "And A is called orthogonally diagonalization if\n",
        "$PDP^{-1}=PDP^{T}$\n",
        "\n",
        "And the immediate result is $A^T=A$ if A is an nxn matrix"
      ],
      "metadata": {
        "id": "LxCFd6ahJPT8"
      }
    },
    {
      "cell_type": "markdown",
      "source": [
        "1.3 Linear Regression\n",
        "\n",
        "QR decomposition is a way to decompose a matrix into the product of an orthogonal matrix Q and an uppertriangular matrix R."
      ],
      "metadata": {
        "id": "8bpcIVzxLWZv"
      }
    },
    {
      "cell_type": "code",
      "source": [
        "from numpy.linalg import qr\n",
        "a = np.array([[3, 2],\n",
        "              [4, 3]])\n",
        "\n",
        "q, r = qr(a)\n",
        "\n",
        "print('Q:', q)\n",
        "print('R:', r)\n",
        "\n",
        "#we can see this is giving the same solution again\n",
        "b = np.dot(q, r)\n",
        "print('QR:', b)\n",
        "\n",
        "#the reason why we do this because the orthonormal matrix is very easy to work with"
      ],
      "metadata": {
        "colab": {
          "base_uri": "https://localhost:8080/"
        },
        "id": "ViyT54iuIQOy",
        "outputId": "96071bfa-ccbd-4aa7-f094-1452ed129fb6"
      },
      "execution_count": 40,
      "outputs": [
        {
          "output_type": "stream",
          "name": "stdout",
          "text": [
            "Q: [[-0.6 -0.8]\n",
            " [-0.8  0.6]]\n",
            "R: [[-5.  -3.6]\n",
            " [ 0.   0.2]]\n",
            "QR: [[3. 2.]\n",
            " [4. 3.]]\n"
          ]
        }
      ]
    },
    {
      "cell_type": "markdown",
      "source": [
        "The least squares problems boils down this one condition\n",
        "\n",
        "$min_{x \\in \\mathbb{R}^{m}} \\| A \\mathbf{x}-\\mathbf{b}\\|$\n",
        "\n",
        "Normal Equations: let $A \\in \\mathbb{R}^{n\\times m}$, the solution to the equation above satisfies $A^T A \\mathbb{x}=A^T \\mathbb{b}$"
      ],
      "metadata": {
        "id": "b2rhoHrLNq0S"
      }
    },
    {
      "cell_type": "code",
      "source": [
        "from scipy import optimize\n",
        "\n",
        "# generate x and y randomely\n",
        "x = np.linspace(0, 100, 20)\n",
        "y = 1 + x + x * np.random.random(len(x))\n",
        "plt.plot(x,y,'o')\n",
        "\n",
        "# assemble matrix A\n",
        "A = np.vstack([x, np.ones(len(x))]).T\n",
        "\n",
        "# turn y into a column vector\n",
        "y = y[:, np.newaxis]\n",
        "\n",
        "# Direct least square regression\n",
        "alpha = np.dot((np.dot(np.linalg.inv(np.dot(A.T,A)),A.T)),y)\n",
        "print(alpha)\n",
        "\n",
        "# plot the results\n",
        "plt.plot(x, y, 'b.')\n",
        "plt.plot(x, alpha[0]*x + alpha[1], 'r')\n",
        "plt.xlabel('x')\n",
        "plt.ylabel('y')\n",
        "plt.show()"
      ],
      "metadata": {
        "colab": {
          "base_uri": "https://localhost:8080/",
          "height": 484
        },
        "id": "dq124nzXNLEp",
        "outputId": "46f9efe7-d663-41cb-e201-aef13de4b068"
      },
      "execution_count": 48,
      "outputs": [
        {
          "output_type": "stream",
          "name": "stdout",
          "text": [
            "[[ 1.66113223]\n",
            " [-4.10545915]]\n"
          ]
        },
        {
          "output_type": "display_data",
          "data": {
            "text/plain": [
              "<Figure size 640x480 with 1 Axes>"
            ],
            "image/png": "[encoded data removed]"
          },
          "metadata": {}
        }
      ]
    },
    {
      "cell_type": "code",
      "source": [],
      "metadata": {
        "id": "OiGBkO4dPasO"
      },
      "execution_count": null,
      "outputs": []
    }
  ]
}