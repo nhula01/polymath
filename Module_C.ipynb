{
  "nbformat": 4,
  "nbformat_minor": 0,
  "metadata": {
    "colab": {
      "provenance": [],
      "authorship_tag": "ABX9TyN3tH+mPjgpmZ+6q4z/Txuo",
      "include_colab_link": true
    },
    "kernelspec": {
      "name": "python3",
      "display_name": "Python 3"
    },
    "language_info": {
      "name": "python"
    }
  },
  "cells": [
    {
      "cell_type": "markdown",
      "metadata": {
        "id": "view-in-github",
        "colab_type": "text"
      },
      "source": [
        "<a href=\"https://colab.research.google.com/github/nhula01/polymath/blob/main/Module_C.ipynb\" target=\"_parent\"><img src=\"https://colab.research.google.com/assets/colab-badge.svg\" alt=\"Open In Colab\"/></a>"
      ]
    },
    {
      "cell_type": "markdown",
      "source": [
        "**Root Finding**\n",
        "\n",
        "We can see some motivations from the quadratic formulas. However, it is not always easy to find the roots of higher order polynomials or other functions by hands. Therefore, a numerical method is super useful."
      ],
      "metadata": {
        "id": "XDpdOQJ-kNYu"
      }
    },
    {
      "cell_type": "markdown",
      "source": [
        "19.1. Root Finding Problem Statement.\n",
        "\n",
        "We can use the method fsolve from scipy to solve for roots ($x_r$) where $f(x_r)=0$"
      ],
      "metadata": {
        "id": "ZoZTwvR24e9f"
      }
    },
    {
      "cell_type": "code",
      "execution_count": 15,
      "metadata": {
        "id": "oCx-4qDtj1sL",
        "colab": {
          "base_uri": "https://localhost:8080/",
          "height": 534
        },
        "outputId": "845b3b46-b5fc-476b-a1ed-c3e88a4b1943"
      },
      "outputs": [
        {
          "output_type": "stream",
          "name": "stdout",
          "text": [
            "r = [0.45018361]\n",
            "result= [-5.55111512e-17]\n",
            "r = [-4.41758526e+49]\n",
            "result= [5.12424775e-100]\n",
            "The number of calls to function has reached maxfev = 400.\n"
          ]
        },
        {
          "output_type": "display_data",
          "data": {
            "text/plain": [
              "<Figure size 640x480 with 1 Axes>"
            ],
            "image/png": "[encoded data removed]"
          },
          "metadata": {}
        }
      ],
      "source": [
        "import numpy as np\n",
        "from scipy import optimize\n",
        "import matplotlib.pyplot as plt\n",
        "\n",
        "f = lambda x: .5*np.cos(x) - x\n",
        "r = optimize.fsolve(f, -2)\n",
        "print(\"r =\", r)\n",
        "# Verify the solution is a root\n",
        "result = f(r)\n",
        "print(\"result=\", result)\n",
        "\n",
        "#depending on initial guess, the answers for the roots might converge differently\n",
        "x0 = np.linspace(-50,50,2)\n",
        "r0 = optimize.fsolve(f, x0)\n",
        "plt.plot(x0,r0)\n",
        "\n",
        "#the above answer has only one root\n",
        "#what about the case when there is no roots\n",
        "f = lambda x: 1/x**2\n",
        "r, infodict, ier, mesg = optimize.fsolve(f, -10, full_output=True)\n",
        "print(\"r =\", r)\n",
        "result = f(r)\n",
        "print(\"result=\", result)\n",
        "#some functtions might converge when we increase maxfev. However, there is no solution in our case\n",
        "print(mesg)"
      ]
    },
    {
      "cell_type": "markdown",
      "source": [
        "19.2 Tolerance\n",
        "\n",
        "In any computational computations, error is inevitable due to round off and float numbers. Nevertheless, we also want to have a threshold for this error range so we call it tolerance. We call that a computation has converged to a solution if the solution stays in the range of tolerance.\n",
        "\n",
        "There are many ways to calculate error. We can choose each way depening on the situation"
      ],
      "metadata": {
        "id": "vjUJWgEi8cjt"
      }
    },
    {
      "cell_type": "code",
      "source": [
        "# let's say that define the tolarance to be .01\n",
        "tolerance = .01\n",
        "# and we defind error to be e = |x_{i+1}-x_i|\n",
        "# then\n",
        "x_new = 1.0001\n",
        "x_old = 1.0000\n",
        "error = x_new - x_old\n",
        "if (tolerance>=error): # if the error likes within the tolarance range\n",
        "  print(\"An acceptable answer\")"
      ],
      "metadata": {
        "colab": {
          "base_uri": "https://localhost:8080/"
        },
        "id": "qgElcpL95K6w",
        "outputId": "478abd37-71a8-4c87-b619-81ca100b6edc"
      },
      "execution_count": 16,
      "outputs": [
        {
          "output_type": "stream",
          "name": "stdout",
          "text": [
            "An acceptable answer\n"
          ]
        }
      ]
    },
    {
      "cell_type": "markdown",
      "source": [
        "19.3 Bisectional Method\n",
        "\n",
        "From calculus, we have learned about the Intermediate Value Theorem. It states that if sign(f(a)) is different than sign(f(c)), then we have at least an f(b)=0 where a<b<c.\n",
        "\n",
        "The bisectional method utilizes this method to find root by replacing the new comparision at m=(a+c)/2"
      ],
      "metadata": {
        "id": "56hw4exIBhRc"
      }
    },
    {
      "cell_type": "code",
      "source": [
        "import numpy as np\n",
        "\n",
        "#we first define a general function for bisection method\n",
        "#we apply recursive method in this problem\n",
        "steps = 0\n",
        "def my_bisection(f, a, b, tol):\n",
        "    # approximates a root, R, of f bounded\n",
        "    # by a and b to within tolerance\n",
        "    # | f(m) | < tol with m the midpoint\n",
        "    # between a and b Recursive implementation\n",
        "    # check if a and b bound a root\n",
        "    global steps\n",
        "    steps+=1\n",
        "    local_step=0\n",
        "    if np.sign(f(a)) == np.sign(f(b)):\n",
        "        raise Exception(\n",
        "         \"The scalars a and b do not bound a root\")\n",
        "    # get midpoint\n",
        "    m = (a + b)/2\n",
        "    if np.abs(f(m)) < tol:\n",
        "        # stopping condition, report m as root\n",
        "        local_step = steps\n",
        "        steps=0\n",
        "        return m, local_step\n",
        "    elif np.sign(f(a)) == np.sign(f(m)):\n",
        "        # case where m is an improvement on a.\n",
        "        # Make recursive call with a = m\n",
        "        return my_bisection(f, m, b, tol)\n",
        "    elif np.sign(f(b)) == np.sign(f(m)):\n",
        "        # case where m is an improvement on b.\n",
        "        # Make recursive call with b = m\n",
        "        return my_bisection(f, a, m, tol)\n",
        "\n",
        "# third order polynomial\n",
        "f = lambda x: x**3+5*x**2-4\n",
        "\n",
        "#find the three roots with different tolerance rate\n",
        "r1,total_step_1 = my_bisection(f, -6, -4, 0.1)\n",
        "print(\"first root =\", r1, \"where the function is called \",total_step_1,\"times\")\n",
        "r2,total_step_2 = my_bisection(f, -4, 0, 0.01)\n",
        "print(\"second root =\", r2,\"where the function is called \", total_step_2,\"times\")\n",
        "r3,total_step_3 = my_bisection(f, 0, 4, 0.05)\n",
        "print(\"third root =\", r3, \"where the function is called \", total_step_3,\"times\")\n",
        "print(\"The values at those postitions are\")\n",
        "print(\"f(r1) =\", f(r1))\n",
        "print(\"f(r2) =\", f(r2))\n",
        "print(\"f(r3) =\", f(r3))"
      ],
      "metadata": {
        "colab": {
          "base_uri": "https://localhost:8080/"
        },
        "id": "KfxRwCuhBf4a",
        "outputId": "f776145e-c9ec-4b6d-ae4e-a8a71a703327"
      },
      "execution_count": 23,
      "outputs": [
        {
          "output_type": "stream",
          "name": "stdout",
          "text": [
            "first root = -4.828125 where the function is called  7 times\n",
            "second root = -1.0 where the function is called  2 times\n",
            "third root = 0.828125 where the function is called  8 times\n",
            "The values at those postitions are\n",
            "f(r1) = 0.006542205810546875\n",
            "f(r2) = 0.0\n",
            "f(r3) = -0.003124237060546875\n"
          ]
        }
      ]
    },
    {
      "cell_type": "code",
      "source": [
        "# if we find at a bad bisection, an error will raise\n",
        "my_bisection(f, 4,8, 0.05)"
      ],
      "metadata": {
        "colab": {
          "base_uri": "https://localhost:8080/",
          "height": 322
        },
        "id": "4HRw0MzoF8N7",
        "outputId": "8964f462-82f0-4462-8f1a-28bc3047f235"
      },
      "execution_count": 24,
      "outputs": [
        {
          "output_type": "error",
          "ename": "Exception",
          "evalue": "The scalars a and b do not bound a root",
          "traceback": [
            "\u001b[0;31m---------------------------------------------------------------------------\u001b[0m",
            "\u001b[0;31mException\u001b[0m                                 Traceback (most recent call last)",
            "\u001b[0;32m<ipython-input-24-99636d5312d2>\u001b[0m in \u001b[0;36m<cell line: 2>\u001b[0;34m()\u001b[0m\n\u001b[1;32m      1\u001b[0m \u001b[0;31m# if we find at a bad bisection, an error will raise\u001b[0m\u001b[0;34m\u001b[0m\u001b[0;34m\u001b[0m\u001b[0m\n\u001b[0;32m----> 2\u001b[0;31m \u001b[0mmy_bisection\u001b[0m\u001b[0;34m(\u001b[0m\u001b[0mf\u001b[0m\u001b[0;34m,\u001b[0m \u001b[0;36m4\u001b[0m\u001b[0;34m,\u001b[0m\u001b[0;36m8\u001b[0m\u001b[0;34m,\u001b[0m \u001b[0;36m0.05\u001b[0m\u001b[0;34m)\u001b[0m\u001b[0;34m\u001b[0m\u001b[0;34m\u001b[0m\u001b[0m\n\u001b[0m",
            "\u001b[0;32m<ipython-input-23-be0cc2453ec1>\u001b[0m in \u001b[0;36mmy_bisection\u001b[0;34m(f, a, b, tol)\u001b[0m\n\u001b[1;32m     14\u001b[0m     \u001b[0mlocal_step\u001b[0m\u001b[0;34m=\u001b[0m\u001b[0;36m0\u001b[0m\u001b[0;34m\u001b[0m\u001b[0;34m\u001b[0m\u001b[0m\n\u001b[1;32m     15\u001b[0m     \u001b[0;32mif\u001b[0m \u001b[0mnp\u001b[0m\u001b[0;34m.\u001b[0m\u001b[0msign\u001b[0m\u001b[0;34m(\u001b[0m\u001b[0mf\u001b[0m\u001b[0;34m(\u001b[0m\u001b[0ma\u001b[0m\u001b[0;34m)\u001b[0m\u001b[0;34m)\u001b[0m \u001b[0;34m==\u001b[0m \u001b[0mnp\u001b[0m\u001b[0;34m.\u001b[0m\u001b[0msign\u001b[0m\u001b[0;34m(\u001b[0m\u001b[0mf\u001b[0m\u001b[0;34m(\u001b[0m\u001b[0mb\u001b[0m\u001b[0;34m)\u001b[0m\u001b[0;34m)\u001b[0m\u001b[0;34m:\u001b[0m\u001b[0;34m\u001b[0m\u001b[0;34m\u001b[0m\u001b[0m\n\u001b[0;32m---> 16\u001b[0;31m         raise Exception(\n\u001b[0m\u001b[1;32m     17\u001b[0m          \"The scalars a and b do not bound a root\")     \n\u001b[1;32m     18\u001b[0m     \u001b[0;31m# get midpoint\u001b[0m\u001b[0;34m\u001b[0m\u001b[0;34m\u001b[0m\u001b[0m\n",
            "\u001b[0;31mException\u001b[0m: The scalars a and b do not bound a root"
          ]
        }
      ]
    },
    {
      "cell_type": "markdown",
      "source": [
        "19.4 Newton-Raphson Method.\n",
        "\n",
        "Another method to find roots is using Newton-Raphson method. We repeatedly guess where the solution is by approximating the next guess using linear approximation $f(x)\\approx f(x_0) +f'(x_0)(x_1-x_0)$ so that we can calculate our next guess to be $x_1=x_0-\\frac{f(x_0)}{f'(x_0)}$"
      ],
      "metadata": {
        "id": "TbFdss1nG0d2"
      }
    },
    {
      "cell_type": "code",
      "source": [
        "import numpy as np\n",
        "#define the method\n",
        "def my_newton(f, df, x0, tol):\n",
        "    # output is an estimation of the root of f\n",
        "    # using the Newton Raphson method\n",
        "    # recursive implementation\n",
        "    if abs(f(x0)) < tol:\n",
        "        return x0\n",
        "    else:\n",
        "        return my_newton(f, df, x0 - f(x0)/df(x0), tol)\n",
        "\n",
        "f_prime=lambda x: 3*x**2+10*x\n",
        "estimate = my_newton(f,f_prime, -6, .01)\n",
        "print(\"estimate1=\",estimate)\n",
        "estimate2 = my_newton(f,f_prime, -1, .01)\n",
        "print(\"estimate2=\",estimate2)\n",
        "estimate3 = my_newton(f,f_prime, 3, .01)\n",
        "print(\"estimate3=\",estimate3)\n",
        "#they give similar answers as the bisection method"
      ],
      "metadata": {
        "colab": {
          "base_uri": "https://localhost:8080/"
        },
        "id": "GCKkAX6yGdS_",
        "outputId": "7a1df8fe-55f7-4275-f473-1bf136800db9"
      },
      "execution_count": 29,
      "outputs": [
        {
          "output_type": "stream",
          "name": "stdout",
          "text": [
            "estimate1= -4.828427347702739\n",
            "estimate2= -1\n",
            "estimate3= 0.8284302192216397\n"
          ]
        }
      ]
    },
    {
      "cell_type": "markdown",
      "source": [
        "19.5. Root Finding in Python\n",
        "\n",
        "We can use a method embedded in the scipy library"
      ],
      "metadata": {
        "id": "FvxQvsX0NAEy"
      }
    },
    {
      "cell_type": "code",
      "source": [
        "from scipy.optimize import fsolve\n",
        "\n",
        "f = lambda x: x**3+5*x**2-4\n",
        "fsolve(f, [-6,-1, 3]) # we again obtain the same result like the last one"
      ],
      "metadata": {
        "colab": {
          "base_uri": "https://localhost:8080/"
        },
        "id": "o-oCfCoYMmID",
        "outputId": "4ba47b5a-c293-40e9-ef2e-2a5e800070ac"
      },
      "execution_count": 30,
      "outputs": [
        {
          "output_type": "execute_result",
          "data": {
            "text/plain": [
              "array([-4.82842712, -1.        ,  0.82842712])"
            ]
          },
          "metadata": {},
          "execution_count": 30
        }
      ]
    },
    {
      "cell_type": "code",
      "source": [],
      "metadata": {
        "id": "V7E1F86ENvxa"
      },
      "execution_count": null,
      "outputs": []
    }
  ]
}