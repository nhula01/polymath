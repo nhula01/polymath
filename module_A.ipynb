{
  "nbformat": 4,
  "nbformat_minor": 0,
  "metadata": {
    "colab": {
      "provenance": [],
      "authorship_tag": "ABX9TyP67VCM3+O76khqdlm9K6Mq",
      "include_colab_link": true
    },
    "kernelspec": {
      "name": "python3",
      "display_name": "Python 3"
    },
    "language_info": {
      "name": "python"
    }
  },
  "cells": [
    {
      "cell_type": "markdown",
      "metadata": {
        "id": "view-in-github",
        "colab_type": "text"
      },
      "source": [
        "<a href=\"https://colab.research.google.com/github/nhula01/polymath/blob/main/module_A.ipynb\" target=\"_parent\"><img src=\"https://colab.research.google.com/assets/colab-badge.svg\" alt=\"Open In Colab\"/></a>"
      ]
    },
    {
      "cell_type": "markdown",
      "source": [
        "Chapter 9: Base-N and Binary\n",
        "\n",
        "Decimal System: this system is represented by 10 numbers from 0 to 9 with each digit represents the coefcient for a power of 10.\n",
        "\n",
        "Any other systems could be created the same way"
      ],
      "metadata": {
        "id": "_V6gpclCTjYK"
      }
    },
    {
      "cell_type": "code",
      "execution_count": 78,
      "metadata": {
        "colab": {
          "base_uri": "https://localhost:8080/"
        },
        "id": "c3SbavuIRIYz",
        "outputId": "3fcd9714-8bdc-4dce-fa0c-17126219a8bc"
      },
      "outputs": [
        {
          "output_type": "execute_result",
          "data": {
            "text/plain": [
              "True"
            ]
          },
          "metadata": {},
          "execution_count": 78
        }
      ],
      "source": [
        "# 165.47（Base 10）\n",
        "165.47 == 1*(10**2) + 6*(10**1) + 5*(10**0) + 4*(10**-1) + 7*(10**-2)"
      ]
    },
    {
      "cell_type": "code",
      "source": [
        "# Now we write the comparision of 141(base 10) with 12020(base 3)\n",
        "1*(10**2) + 4*(10**1) + 1*(10**0) == 1*(3**4) + 2*(3**3) + 0*(3**2) + 2*(3**1) + 0*(3**0)"
      ],
      "metadata": {
        "colab": {
          "base_uri": "https://localhost:8080/"
        },
        "id": "6Ohz2z4KUzSp",
        "outputId": "81c12354-00c6-4dc8-be0e-ec053858d774"
      },
      "execution_count": 79,
      "outputs": [
        {
          "output_type": "execute_result",
          "data": {
            "text/plain": [
              "True"
            ]
          },
          "metadata": {},
          "execution_count": 79
        }
      ]
    },
    {
      "cell_type": "code",
      "source": [
        "# similarly, we check base 12 (base 10) with 1100 (base 2)\n",
        "1*(10**1)+2*(10**0) == 1*(2**3)+1*(2**2)+0*(2**1)+0*(2**0)"
      ],
      "metadata": {
        "colab": {
          "base_uri": "https://localhost:8080/"
        },
        "id": "eFL3YCVuWfG6",
        "outputId": "ee1ae7e0-1dc2-434f-8120-ee86fe2c6d11"
      },
      "execution_count": 80,
      "outputs": [
        {
          "output_type": "execute_result",
          "data": {
            "text/plain": [
              "True"
            ]
          },
          "metadata": {},
          "execution_count": 80
        }
      ]
    },
    {
      "cell_type": "code",
      "source": [
        "#Now we do additions in binary and base 10\n",
        "#base 10: 11+12=23\n",
        "#base 2: 1011+1100=10111\n",
        "sum = 10111\n",
        "23 == 1*(2**4) + 0*(2**3) + 1*(2**2) + 1*(2**1) + 1*(2**0)"
      ],
      "metadata": {
        "colab": {
          "base_uri": "https://localhost:8080/"
        },
        "id": "-yt2u9B-XsGQ",
        "outputId": "cb712c1c-45ca-4a2b-81c0-927d1ba3a457"
      },
      "execution_count": 81,
      "outputs": [
        {
          "output_type": "execute_result",
          "data": {
            "text/plain": [
              "True"
            ]
          },
          "metadata": {},
          "execution_count": 81
        }
      ]
    },
    {
      "cell_type": "code",
      "source": [
        "#Now we do multiplcation in binary and base 10\n",
        "#base 10: 11*12=132\n",
        "#base 2: 1011*1100=10000100\n",
        "multiplcation = 10000100\n",
        "132 == 1*(2**7)+0*(2**6)+0*(2**5)+0*(2**4)+0*(2**3)+1*(2**2)+0*(2**1)+0*(2**0)"
      ],
      "metadata": {
        "colab": {
          "base_uri": "https://localhost:8080/"
        },
        "id": "fMroVa26YVy4",
        "outputId": "27ea4853-c7f5-426a-d832-f4047f67268d"
      },
      "execution_count": 82,
      "outputs": [
        {
          "output_type": "execute_result",
          "data": {
            "text/plain": [
              "True"
            ]
          },
          "metadata": {},
          "execution_count": 82
        }
      ]
    },
    {
      "cell_type": "markdown",
      "source": [
        "Fixed number that the computer can store."
      ],
      "metadata": {
        "id": "tT_bbdIrcfEp"
      }
    },
    {
      "cell_type": "code",
      "source": [
        "sum = 0\n",
        "for i in range(32):\n",
        "  sum += 2**i\n",
        "print(sum)"
      ],
      "metadata": {
        "colab": {
          "base_uri": "https://localhost:8080/"
        },
        "id": "b8zJ1FcrbnBt",
        "outputId": "e5109b41-827e-4ed9-b4d0-f635ae3f6fb5"
      },
      "execution_count": 83,
      "outputs": [
        {
          "output_type": "stream",
          "name": "stdout",
          "text": [
            "4294967295\n"
          ]
        }
      ]
    },
    {
      "cell_type": "markdown",
      "source": [
        "9.2 Floating point numbers"
      ],
      "metadata": {
        "id": "g8VaF-c3dD2Q"
      }
    },
    {
      "cell_type": "code",
      "source": [
        "import sys\n",
        "sys.float_info"
      ],
      "metadata": {
        "colab": {
          "base_uri": "https://localhost:8080/"
        },
        "id": "BV8WcywBc03_",
        "outputId": "37a66789-1396-4bf2-9252-a9f894eb3ab4"
      },
      "execution_count": 84,
      "outputs": [
        {
          "output_type": "execute_result",
          "data": {
            "text/plain": [
              "sys.float_info(max=1.7976931348623157e+308, max_exp=1024, max_10_exp=308, min=2.2250738585072014e-308, min_exp=-1021, min_10_exp=-307, dig=15, mant_dig=53, epsilon=2.220446049250313e-16, radix=2, rounds=1)"
            ]
          },
          "metadata": {},
          "execution_count": 84
        }
      ]
    },
    {
      "cell_type": "markdown",
      "source": [
        "Floats allocate to three different parts: the sign indicator, characteristic or exponent, and fraction.\n",
        "n = (-1)^s (2^(e-1023)) (1 + f)"
      ],
      "metadata": {
        "id": "dzmyqXhodVpp"
      }
    },
    {
      "cell_type": "code",
      "source": [
        "import numpy as np\n",
        "import matplotlib.pyplot as plt\n",
        "# now let's check the divergence of the system from -1000 to 1000\n",
        "x = np.linspace(-1000, 1000, 200)\n",
        "y = np.spacing(x)\n",
        "plt.plot(x,y)\n",
        "plt.xlabel('value')\n",
        "plt.ylabel('spacing')\n",
        "plt.legend()"
      ],
      "metadata": {
        "colab": {
          "base_uri": "https://localhost:8080/",
          "height": 521
        },
        "id": "wL22amL4dL1s",
        "outputId": "6bd1e1c1-37e8-4e68-8ed6-1110fb2d42a8"
      },
      "execution_count": 85,
      "outputs": [
        {
          "output_type": "stream",
          "name": "stderr",
          "text": [
            "WARNING:matplotlib.legend:No artists with labels found to put in legend.  Note that artists whose label start with an underscore are ignored when legend() is called with no argument.\n"
          ]
        },
        {
          "output_type": "execute_result",
          "data": {
            "text/plain": [
              "<matplotlib.legend.Legend at 0x7f7ae0ed7e20>"
            ]
          },
          "metadata": {},
          "execution_count": 85
        },
        {
          "output_type": "display_data",
          "data": {
            "text/plain": [
              "<Figure size 640x480 with 1 Axes>"
            ],
            "image/png": "[encoded data removed]"
          },
          "metadata": {}
        }
      ]
    },
    {
      "cell_type": "code",
      "source": [
        "np.spacing(1e5) # the spacing at  1e5"
      ],
      "metadata": {
        "colab": {
          "base_uri": "https://localhost:8080/"
        },
        "id": "RF1TpBKZfCa4",
        "outputId": "ed244ed8-da13-42b7-bcbd-5379ff9023fd"
      },
      "execution_count": 86,
      "outputs": [
        {
          "output_type": "execute_result",
          "data": {
            "text/plain": [
              "1.4551915228366852e-11"
            ]
          },
          "metadata": {},
          "execution_count": 86
        }
      ]
    },
    {
      "cell_type": "code",
      "source": [
        "# if we add the value between spacing, then the value stays the same\n",
        "1e5 == (1e5 + np.spacing(1e5)/2)"
      ],
      "metadata": {
        "colab": {
          "base_uri": "https://localhost:8080/"
        },
        "id": "Bof0dacofVJP",
        "outputId": "6859d1c4-9b29-43c6-cb65-efafe827c9a6"
      },
      "execution_count": 87,
      "outputs": [
        {
          "output_type": "execute_result",
          "data": {
            "text/plain": [
              "True"
            ]
          },
          "metadata": {},
          "execution_count": 87
        }
      ]
    },
    {
      "cell_type": "markdown",
      "source": [
        "We now play with the smalleest and largest number in python"
      ],
      "metadata": {
        "id": "_h40tGfyh51H"
      }
    },
    {
      "cell_type": "code",
      "source": [
        "smallest = (2**(1-1023))*(1+0)\n",
        "#largest = (2**(2046-1023))*((1+sum(0.5**np.arange(1, 53)))) # the largest number\n",
        "print(smallest)"
      ],
      "metadata": {
        "colab": {
          "base_uri": "https://localhost:8080/"
        },
        "id": "mvcr0MU2gQ01",
        "outputId": "3dc16e94-2a09-4f19-9b31-164f9149c0f2"
      },
      "execution_count": 88,
      "outputs": [
        {
          "output_type": "stream",
          "name": "stdout",
          "text": [
            "2.2250738585072014e-308\n"
          ]
        }
      ]
    },
    {
      "cell_type": "code",
      "source": [
        "print(sys.float_info.max)\n",
        "print(sys.float_info.min)"
      ],
      "metadata": {
        "colab": {
          "base_uri": "https://localhost:8080/"
        },
        "id": "3BFxP3sogc9F",
        "outputId": "762d62b1-a7fe-4734-d10d-4adf55f1be95"
      },
      "execution_count": 89,
      "outputs": [
        {
          "output_type": "stream",
          "name": "stdout",
          "text": [
            "1.7976931348623157e+308\n",
            "2.2250738585072014e-308\n"
          ]
        }
      ]
    },
    {
      "cell_type": "code",
      "source": [
        "#adding two max numbers gives infinity\n",
        "sys.float_info.max + sys.float_info.max"
      ],
      "metadata": {
        "colab": {
          "base_uri": "https://localhost:8080/"
        },
        "id": "7w1LlzTfhVS0",
        "outputId": "ff6b5aed-2d2c-460b-9fa2-5171686344f8"
      },
      "execution_count": 90,
      "outputs": [
        {
          "output_type": "execute_result",
          "data": {
            "text/plain": [
              "inf"
            ]
          },
          "metadata": {},
          "execution_count": 90
        }
      ]
    },
    {
      "cell_type": "code",
      "source": [
        "# adding with any number to the biggest number will still be the same number\n",
        "sys.float_info.max + 10 == sys.float_info.max"
      ],
      "metadata": {
        "colab": {
          "base_uri": "https://localhost:8080/"
        },
        "id": "G09vsqs7iOWN",
        "outputId": "dde1883f-54c7-4cd0-a5f5-b97ced40760a"
      },
      "execution_count": 91,
      "outputs": [
        {
          "output_type": "execute_result",
          "data": {
            "text/plain": [
              "True"
            ]
          },
          "metadata": {},
          "execution_count": 91
        }
      ]
    },
    {
      "cell_type": "code",
      "source": [
        "# if we go smaller than 2**(-1075), we will get 0\n",
        "2**(-1078)"
      ],
      "metadata": {
        "colab": {
          "base_uri": "https://localhost:8080/"
        },
        "id": "-6BlKGBYicEz",
        "outputId": "34c14bec-b438-4bcb-fdab-9d2fdd5bf2c4"
      },
      "execution_count": 92,
      "outputs": [
        {
          "output_type": "execute_result",
          "data": {
            "text/plain": [
              "0.0"
            ]
          },
          "metadata": {},
          "execution_count": 92
        }
      ]
    },
    {
      "cell_type": "markdown",
      "source": [
        "9.3. Round-off errors"
      ],
      "metadata": {
        "id": "NUWoZKiGi-Mz"
      }
    },
    {
      "cell_type": "code",
      "source": [
        "5.1-4.845, 5.1 - 4.845 == 0.255 # we see that this is not true in computation due to round off error"
      ],
      "metadata": {
        "colab": {
          "base_uri": "https://localhost:8080/"
        },
        "id": "w-JQPyaKiuqh",
        "outputId": "727bbab7-610a-4a4b-f6ac-90c97e60b572"
      },
      "execution_count": 93,
      "outputs": [
        {
          "output_type": "execute_result",
          "data": {
            "text/plain": [
              "(0.2549999999999999, False)"
            ]
          },
          "metadata": {},
          "execution_count": 93
        }
      ]
    },
    {
      "cell_type": "code",
      "source": [
        "20/3 # we can also see it in fraction"
      ],
      "metadata": {
        "colab": {
          "base_uri": "https://localhost:8080/"
        },
        "id": "gM7chShOjZEq",
        "outputId": "023a9a95-a2a8-479e-e983-2c9c364dd9c6"
      },
      "execution_count": 94,
      "outputs": [
        {
          "output_type": "execute_result",
          "data": {
            "text/plain": [
              "6.666666666666667"
            ]
          },
          "metadata": {},
          "execution_count": 94
        }
      ]
    },
    {
      "cell_type": "code",
      "source": [
        "0.1 + 0.2 + 0.4 ,0.1 + 0.2 + 0.4 == 0.7 #adding also gives an error accumulated"
      ],
      "metadata": {
        "colab": {
          "base_uri": "https://localhost:8080/"
        },
        "id": "Sa8VD9kBjqAT",
        "outputId": "596816f0-a93b-421f-c15a-d331a3adaaa0"
      },
      "execution_count": 95,
      "outputs": [
        {
          "output_type": "execute_result",
          "data": {
            "text/plain": [
              "(0.7000000000000001, False)"
            ]
          },
          "metadata": {},
          "execution_count": 95
        }
      ]
    },
    {
      "cell_type": "code",
      "source": [
        " 2 + 1/3 - 1/3 # this will not be a problem if we only do it once"
      ],
      "metadata": {
        "colab": {
          "base_uri": "https://localhost:8080/"
        },
        "id": "CzkkPu5cj6QZ",
        "outputId": "4c42185e-d332-4824-f426-3823358298c6"
      },
      "execution_count": 96,
      "outputs": [
        {
          "output_type": "execute_result",
          "data": {
            "text/plain": [
              "2.0"
            ]
          },
          "metadata": {},
          "execution_count": 96
        }
      ]
    },
    {
      "cell_type": "code",
      "source": [
        "def add_and_subtract(iterations):\n",
        "  result = 1\n",
        "  for i in range(iterations):\n",
        "    result += 1/3\n",
        "  for i in range(iterations):\n",
        "    result -= 1/3\n",
        "  return result\n",
        "# if we do this so many times, we will see an accumulation of errors\n",
        "add_and_subtract(100)"
      ],
      "metadata": {
        "colab": {
          "base_uri": "https://localhost:8080/"
        },
        "id": "M6gzLjDVkG1R",
        "outputId": "60f9b453-83cb-4c33-9ea8-a29e3dbefe15"
      },
      "execution_count": 97,
      "outputs": [
        {
          "output_type": "execute_result",
          "data": {
            "text/plain": [
              "1.0000000000000002"
            ]
          },
          "metadata": {},
          "execution_count": 97
        }
      ]
    },
    {
      "cell_type": "code",
      "source": [
        "add_and_subtract(5000) #more"
      ],
      "metadata": {
        "colab": {
          "base_uri": "https://localhost:8080/"
        },
        "id": "Umeb4y2rkbsW",
        "outputId": "a83060ea-6692-4b72-d3ea-c8517942eec8"
      },
      "execution_count": 98,
      "outputs": [
        {
          "output_type": "execute_result",
          "data": {
            "text/plain": [
              "0.9999999999998916"
            ]
          },
          "metadata": {},
          "execution_count": 98
        }
      ]
    },
    {
      "cell_type": "code",
      "source": [
        "x = np.linspace(500,5000,10) # test the divergence\n",
        "print(x)\n",
        "y = []\n",
        "for i in x:\n",
        "  k = add_and_subtract(int(i))\n",
        "  y.append(k)"
      ],
      "metadata": {
        "colab": {
          "base_uri": "https://localhost:8080/"
        },
        "id": "wLp0aS65kelk",
        "outputId": "19cb61a2-32b8-4f61-80b0-fe7eccc2c0e7"
      },
      "execution_count": 99,
      "outputs": [
        {
          "output_type": "stream",
          "name": "stdout",
          "text": [
            "[ 500. 1000. 1500. 2000. 2500. 3000. 3500. 4000. 4500. 5000.]\n"
          ]
        }
      ]
    },
    {
      "cell_type": "code",
      "source": [
        "plt.plot(x,y)\n",
        "plt.xlabel('Number of Iterations')\n",
        "plt.ylabel('Error')\n",
        "plt.legend()"
      ],
      "metadata": {
        "colab": {
          "base_uri": "https://localhost:8080/",
          "height": 521
        },
        "id": "H9cMKxkzkuqN",
        "outputId": "5b25138a-4ccb-42e9-d08e-920d1187d134"
      },
      "execution_count": 100,
      "outputs": [
        {
          "output_type": "stream",
          "name": "stderr",
          "text": [
            "WARNING:matplotlib.legend:No artists with labels found to put in legend.  Note that artists whose label start with an underscore are ignored when legend() is called with no argument.\n"
          ]
        },
        {
          "output_type": "execute_result",
          "data": {
            "text/plain": [
              "<matplotlib.legend.Legend at 0x7f7adf0ec550>"
            ]
          },
          "metadata": {},
          "execution_count": 100
        },
        {
          "output_type": "display_data",
          "data": {
            "text/plain": [
              "<Figure size 640x480 with 1 Axes>"
            ],
            "image/png": "[encoded data removed]"
          },
          "metadata": {}
        }
      ]
    },
    {
      "cell_type": "code",
      "source": [],
      "metadata": {
        "id": "eZTywsQrlZr_"
      },
      "execution_count": 100,
      "outputs": []
    }
  ]
}