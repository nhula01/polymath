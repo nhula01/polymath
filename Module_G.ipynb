{
  "nbformat": 4,
  "nbformat_minor": 0,
  "metadata": {
    "colab": {
      "provenance": [],
      "authorship_tag": "ABX9TyM3hkxdRMhvPhS2FQO67/YA",
      "include_colab_link": true
    },
    "kernelspec": {
      "name": "python3",
      "display_name": "Python 3"
    },
    "language_info": {
      "name": "python"
    }
  },
  "cells": [
    {
      "cell_type": "markdown",
      "metadata": {
        "id": "view-in-github",
        "colab_type": "text"
      },
      "source": [
        "<a href=\"https://colab.research.google.com/github/nhula01/polymath/blob/main/Module_G.ipynb\" target=\"_parent\"><img src=\"https://colab.research.google.com/assets/colab-badge.svg\" alt=\"Open In Colab\"/></a>"
      ]
    },
    {
      "cell_type": "markdown",
      "source": [
        "21. Numerical Integration\n",
        "\n",
        "20.1 Numerical Problem Statement\n",
        "\n",
        "To do numerical integrations, we divide an interval into many subintervals. By appoximating them with a shape and summing them up, we would be able to approx the whole integration.\n",
        "\n",
        "20.2 Riemanns Integral\n",
        "\n",
        "By dividing the interval into many subintervals with the length of $x_{i+1}-x_i=h$, the method is:\n",
        "\n",
        "$\\int_a^b f(x) dx \\approx \\sum_{i=0}^{n-1} hf(x_i)$\n",
        "\n",
        "Similarly to differentiation, we can use taylor series to approx $f(x_i)$. We can calculate the value at an interval in big-O notation\n",
        "\n",
        "$\\int_{x_i}^{x_{i+1}} f(x) dx = hf(x_i)+O(h^2)$\n",
        "\n",
        "The midpoint rule takes the value of the function at the midpoint of the interval so it says.\n",
        "\n",
        "$\\int_a^b f(x) = \\sum_{i=0}^{n-1} hf(y_i)$ where $y_i= \\frac{x_{i+1}+x_i}{2}$\n",
        "\n",
        "Using thee two derivations above, the method is essentially calculating:\n",
        "\n",
        "$\\int_{x_i}^{x_{i+1}} f(x) dx = hf(y_i)+O(h^3)$"
      ],
      "metadata": {
        "id": "kh08tJ8Gwhlu"
      }
    },
    {
      "cell_type": "code",
      "execution_count": null,
      "metadata": {
        "colab": {
          "base_uri": "https://localhost:8080/"
        },
        "id": "oWOqQOMvqf8d",
        "outputId": "7539e75f-1161-43b4-8264-4bad1ba7e39a"
      },
      "outputs": [
        {
          "output_type": "stream",
          "name": "stdout",
          "text": [
            "51.34349030470914\n",
            "0.6565096952908576\n",
            "52.659279778393355\n",
            "-0.6592797783933548\n",
            "51.99930747922436\n",
            "0.0006925207756367513\n"
          ]
        }
      ],
      "source": [
        "import numpy as np\n",
        "from sympy import symbols, integrate\n",
        "\n",
        "\n",
        "a = 4\n",
        "b = 5\n",
        "n = 20\n",
        "h = (b - a) / (n - 1)\n",
        "x = np.linspace(a, b, n)\n",
        "f = 3*x**2-2*x\n",
        "def func(x):\n",
        "  return 3*x**2-2*x\n",
        "\n",
        "#calculate exact\n",
        "def exact_int(y):\n",
        "  return y**3 - y**2\n",
        "\n",
        "result = exact_int(5)-exact_int(4)\n",
        "#methods in chapter\n",
        "I_riemannL = h * sum(f[:n-1])\n",
        "err_riemannL = result - I_riemannL\n",
        "\n",
        "I_riemannR = h * sum(f[1::])\n",
        "err_riemannR = result - I_riemannR\n",
        "\n",
        "I_mid = h * sum(func((x[:n-1] \\\n",
        "        + x[1:])/2))\n",
        "err_mid = result - I_mid\n",
        "\n",
        "print(I_riemannL)\n",
        "print(err_riemannL)\n",
        "\n",
        "print(I_riemannR)\n",
        "print(err_riemannR)\n",
        "\n",
        "print(I_mid)\n",
        "print(err_mid)"
      ]
    },
    {
      "cell_type": "markdown",
      "source": [
        "20.3 Trapezoid\n",
        "\n",
        "We now approximate each subinterval with a trapzoid as the following:\n",
        "\n",
        "$\\int_a^b f(x) dx \\approx \\sum_{i=0}^{n-1} h\\frac{f(x_i)+f(x_{i+1})}{2}$\n",
        "\n",
        "Applying taylor series: we obtain the result\n",
        "\n",
        "$\\int_{x_i}^{x_{i+1}} f(x) dx = h\\frac{f(x_{i+1})+f(x_i)}{2}+O(h^3)$"
      ],
      "metadata": {
        "id": "KVNHJAf0JtKO"
      }
    },
    {
      "cell_type": "code",
      "source": [
        "import numpy as np\n",
        "\n",
        "I_trap = (h/2)*(f[0] + \\\n",
        "          2 * sum(f[1:n-1]) + f[n-1])\n",
        "err_trap = result - I_trap\n",
        "\n",
        "print(I_trap)\n",
        "print(err_trap)"
      ],
      "metadata": {
        "colab": {
          "base_uri": "https://localhost:8080/"
        },
        "id": "dAVmZWa9GxfU",
        "outputId": "fec1e5ac-a090-4a72-877c-74b60d048e29"
      },
      "execution_count": null,
      "outputs": [
        {
          "output_type": "stream",
          "name": "stdout",
          "text": [
            "52.001385041551245\n",
            "-0.0013850415512450809\n"
          ]
        }
      ]
    },
    {
      "cell_type": "markdown",
      "source": [
        "20.4 Simpson's Rule\n",
        "\n",
        "The Simpson's method is meant to approximate the integral with two subintervals by fitting a quadratic polynomial\n",
        "\n",
        "Starting from the lagrange polynomial $P_i(x)$, we manipulate the function to get\n",
        "\n",
        "$\\int_{x_{i-1}}^{x_{i+1}} P_i(x) dx = \\frac{h}{3}(f(x_{i-1})+4f(x_i)+f(x_{i+1}))$\n",
        "\n",
        "This rule requires an even number of intervals. After expanding and manipulating the terms, we obtain the result:\n",
        "$\\int_{x_{i-1}}^{x_{i+1}} f(x) dx = \\frac{h}{3}(f(x_{i-1})+4f(x_i)+f(x_{i+1}))$"
      ],
      "metadata": {
        "id": "2HkRRFDrLXin"
      }
    },
    {
      "cell_type": "code",
      "source": [
        "import numpy as np\n",
        "\n",
        "I_simp = (h/3) * (f[0] + 2*sum(f[:n-2:2]) \\\n",
        "            + 4*sum(f[1:n-1:2]) + f[n-1])\n",
        "err_simp = result - I_simp\n",
        "\n",
        "print(I_simp)\n",
        "print(err_simp)"
      ],
      "metadata": {
        "colab": {
          "base_uri": "https://localhost:8080/"
        },
        "id": "-07T1H4BLV-S",
        "outputId": "b9235e78-9d07-4ec6-e4f6-55b6442b74c4"
      },
      "execution_count": null,
      "outputs": [
        {
          "output_type": "stream",
          "name": "stdout",
          "text": [
            "50.04679982504738\n",
            "1.9532001749526202\n"
          ]
        }
      ]
    },
    {
      "cell_type": "markdown",
      "source": [
        "20.5 Computing Integrals in Python\n",
        "\n",
        "There are packages built in python that we can freely use"
      ],
      "metadata": {
        "id": "P2R5vwqDOEwy"
      }
    },
    {
      "cell_type": "code",
      "source": [
        "# try trapz method\n",
        "from scipy.integrate import trapz\n",
        "\n",
        "I_trapz = trapz(f,x)\n",
        "print(I_trapz-I_trap)"
      ],
      "metadata": {
        "colab": {
          "base_uri": "https://localhost:8080/"
        },
        "id": "BIbkz0e-NzbZ",
        "outputId": "e1ba1e1e-0aee-4044-8329-1aff09f1e60d"
      },
      "execution_count": null,
      "outputs": [
        {
          "output_type": "stream",
          "name": "stdout",
          "text": [
            "0.0\n"
          ]
        }
      ]
    },
    {
      "cell_type": "markdown",
      "source": [
        "We can also find cummulative sum"
      ],
      "metadata": {
        "id": "t7jOgCplSFKE"
      }
    },
    {
      "cell_type": "code",
      "source": [
        "from scipy.integrate import cumtrapz\n",
        "import matplotlib.pyplot as plt\n",
        "\n",
        "F_exact = exact_int(x)\n",
        "F_approx = cumtrapz(func(x), x)\n",
        "\n",
        "plt.figure(figsize = (10,6))\n",
        "plt.plot(x, F_exact)\n",
        "plt.plot(x[1::], F_approx)\n",
        "plt.grid()\n",
        "plt.tight_layout()\n",
        "plt.xlabel('x')\n",
        "plt.ylabel('f(x)')\n",
        "plt.legend(['Exact with Offset', 'Approx'])\n",
        "plt.show()"
      ],
      "metadata": {
        "colab": {
          "base_uri": "https://localhost:8080/",
          "height": 626
        },
        "id": "bsWNt-haOtZe",
        "outputId": "63cd4711-810f-4139-8da0-1eee1d22fd3e"
      },
      "execution_count": null,
      "outputs": [
        {
          "output_type": "display_data",
          "data": {
            "text/plain": [
              "<Figure size 1000x600 with 1 Axes>"
            ],
            "image/png": "[encoded data removed]"
          },
          "metadata": {}
        }
      ]
    },
    {
      "cell_type": "code",
      "source": [
        "# we can also compute the value with quad\n",
        "from scipy.integrate import quad\n",
        "\n",
        "I_quad, est_err_quad = quad(func,4,5)\n",
        "print(I_quad)"
      ],
      "metadata": {
        "colab": {
          "base_uri": "https://localhost:8080/"
        },
        "id": "f42e5uTySv0x",
        "outputId": "5034f53f-e056-4271-892b-2341f6b6077f"
      },
      "execution_count": null,
      "outputs": [
        {
          "output_type": "stream",
          "name": "stdout",
          "text": [
            "52.00000000000001\n"
          ]
        }
      ]
    },
    {
      "cell_type": "code",
      "source": [],
      "metadata": {
        "id": "usBuB6FUTAHP"
      },
      "execution_count": null,
      "outputs": []
    }
  ]
}